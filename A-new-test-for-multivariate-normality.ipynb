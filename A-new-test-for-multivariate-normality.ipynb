{
 "cells": [
  {
   "cell_type": "markdown",
   "metadata": {},
   "source": [
    "\n",
    "<img src=\"ps.png\" width=\"200\">\n",
    "\n",
    "<h1><center>  A new test for Multivariate Normality <br><br>  G.J. Székely and Maria L.Rzzo </center></h1>"
   ]
  },
  {
   "cell_type": "markdown",
   "metadata": {},
   "source": [
    "<h3>  <p style=\"text-align:left;\">Authors: <span style=\"float:right;\"> Professors:\n",
    "    <br>  <br> Zoltan Szabo\n",
    "</span></p>\n",
    "\n",
    "Damien Grasset <br> Alice Guichenez </h3>\n"
   ]
  },
  {
   "cell_type": "markdown",
   "metadata": {},
   "source": [
    "# Outline\n",
    "\n",
    "## <a href=\"#1.-Generate-Multivariate-Distribution\" style=\"color:#00925B\">1.&nbsp;&nbsp;Generate Multivariate Distribution</a>\n",
    "\n",
    "## <a href=\"#2.-Statistics\" style=\"color:#00925B\">2.&nbsp;&nbsp;Statistics</a>\n",
    "\n",
    "-  <a href=\"#1.-Mardia's-Skewness\" style=\"color:#00925B\">2.1.&nbsp;&nbsp;Mardia's Skewness</a>\n",
    "\n",
    "-  <a href=\"#2.-Mardia's-Kurtosis\" style=\"color:#00925B\">2.2.&nbsp;&nbsp;Mardia's Kurtosis</a>\n",
    "\n",
    "-  <a href=\"#3.-BHEP-Statistics-and-Henze-Zirkler\" style=\"color:#00925B\">2.3.&nbsp;&nbsp;BHEP Statistics and Henze-Zirkler</a>\n",
    "-  <a href=\"#4.-Proposed-Statistic\" style=\"color:#00925B\">2.4.&nbsp;&nbsp;Proposed Statistic</a>\n",
    "\n",
    "## <a href=\"#3.-Critical-Values\" style=\"color:#00925B\">3.&nbsp;&nbsp;Critical Values</a>\n",
    "\n",
    "## <a href=\"#4.-Simulations\" style=\"color:#00925B\">4.&nbsp;&nbsp;Simulations</a>\n",
    "\n",
    "-  <a href=\"#1.-Simulation-n°1\" style=\"color:#00925B\">4.1.&nbsp;&nbsp;Simulation n°1</a>\n",
    "-  <a href=\"#2.-Simulation-n°2\" style=\"color:#00925B\">4.2.&nbsp;&nbsp;Simulation n°2</a>\n",
    "-  <a href=\"#3.-Simulation-n°3\" style=\"color:#00925B\">4.3.&nbsp;&nbsp;Simulation n°3</a>\n"
   ]
  },
  {
   "cell_type": "markdown",
   "metadata": {},
   "source": [
    "So as to assess the performance of the new test associated with the proposed statitsique $\\mathcal{E}_{n,d}$, let's do, as proposed in the paper, a comparative Monte Carlo power study of 8 affine invariant tests of multivariate normality. To do so, we will compare our method with differents benchmark statistics and study the positive improvement of the proposed test."
   ]
  },
  {
   "cell_type": "markdown",
   "metadata": {},
   "source": [
    "## Packages"
   ]
  },
  {
   "cell_type": "code",
   "execution_count": 1,
   "metadata": {},
   "outputs": [],
   "source": [
    "import scipy\n",
    "import pickle\n",
    "import numpy as np\n",
    "from math import pi, factorial\n",
    "from numpy.linalg import norm\n",
    "from tqdm import tqdm_notebook\n",
    "from scipy.special import gamma\n",
    "import matplotlib.pyplot as plt\n",
    "from scipy.stats import multivariate_normal\n",
    "from scipy.spatial.distance import euclidean as euclidean\n",
    "\n",
    "import warnings\n",
    "warnings.filterwarnings(\"ignore\")"
   ]
  },
  {
   "cell_type": "markdown",
   "metadata": {},
   "source": [
    "# Generate Multivariate Distribution"
   ]
  },
  {
   "cell_type": "code",
   "execution_count": 2,
   "metadata": {},
   "outputs": [],
   "source": [
    "# Simulations Design \n",
    "\n",
    "n = 100 # Sample size\n",
    "d = 2 # Dimension of the multivariate distribution\n",
    "p = 0.5 # probability of drawing a center normal distribution\n",
    "mu_0, mu_1 = [0]*d, [3]*d # mean vectors\n",
    "I_0  = np.identity(d) # covariance matrices\n",
    "B = np.ones((d,d))*0.9 + np.identity(d)*0.1 # covariance matrix with 1 on diagonal and 0.9 off diagonal"
   ]
  },
  {
   "cell_type": "markdown",
   "metadata": {},
   "source": [
    "Let's start by building the sampling function to simulate a normal mixture $pN_d(\\mu_1, \\Sigma_1) + (1-p)N_d(\\mu_2, \\Sigma_2)$ which consists in drawing :\n",
    "- with proba p, a sampled population $pN_d(\\mu_1, \\Sigma_1)$\n",
    "- with proba (1-p), a sampled population $pN_d(\\mu_2, \\Sigma_2)$"
   ]
  },
  {
   "cell_type": "code",
   "execution_count": 3,
   "metadata": {},
   "outputs": [],
   "source": [
    "def get_samples(p,mu,I,n,d):\n",
    "    samples = np.zeros((n,d))\n",
    "    prob = np.random.random(n)\n",
    "    for i in range(n):\n",
    "        if prob[i]<p :\n",
    "            samples[i,:] = np.random.multivariate_normal(mu[0], I[0], 1)[0]\n",
    "        else :\n",
    "            samples[i,:] = np.random.multivariate_normal(mu[1], I[1], 1)[0]\n",
    "    return samples"
   ]
  },
  {
   "cell_type": "code",
   "execution_count": 4,
   "metadata": {
    "scrolled": true
   },
   "outputs": [
    {
     "data": {
      "image/png": "[encoded data removed]",
      "text/plain": [
       "<Figure size 432x288 with 1 Axes>"
      ]
     },
     "metadata": {},
     "output_type": "display_data"
    }
   ],
   "source": [
    "samples = get_samples(0.5, [mu_0, mu_1], [I_0, I_0], 100, 2)\n",
    "plt.scatter(samples[:,0], samples[:,1])\n",
    "plt.show()"
   ]
  },
  {
   "cell_type": "markdown",
   "metadata": {},
   "source": [
    "# Statistics"
   ]
  },
  {
   "cell_type": "markdown",
   "metadata": {},
   "source": [
    "## 1. Mardia's Skewness"
   ]
  },
  {
   "cell_type": "markdown",
   "metadata": {},
   "source": [
    "Multivariate Skewness test proposed by Mardia and based on the sample skewness statistic defined as follow : \n",
    "\n",
    "$$b_{1,d}=\\frac{1}{n^2} \\sum\\limits_{j,k=1}^n ((X_j - \\bar{X})^T \\hat{\\Sigma}^{-1}(X_k - \\bar{X}))^3$$\n",
    "\n",
    "where $\\hat{\\Sigma}$ denotes the maximum likelihood estimator of population covariance, $\\hat{\\Sigma} = \\frac{1}{n} \\sum\\limits_{j}^n (X_j - \\bar{X})(X_j - \\bar{X})^T$.\n",
    "\n",
    "One will reject normality of the sample distribution for large values of $b_{1,d}$"
   ]
  },
  {
   "cell_type": "code",
   "execution_count": 5,
   "metadata": {},
   "outputs": [],
   "source": [
    "def skewness(x,n):\n",
    "    s = 0\n",
    "    mean = x.mean(axis=0)\n",
    "    max_likelihood = (1/n) * np.dot((x - x.mean(axis=0)).T,(x - x.mean(axis=0)))     \n",
    "    E_inv = np.linalg.inv(max_likelihood)   \n",
    "    for j in range(n):\n",
    "        for k in range(n):\n",
    "            s += np.dot(np.dot((x[j]-mean), E_inv), (x[k]-mean).T)**3\n",
    "    s = s /n**2\n",
    "    return s"
   ]
  },
  {
   "cell_type": "markdown",
   "metadata": {},
   "source": [
    "## 2. Mardia's Kurtosis"
   ]
  },
  {
   "cell_type": "markdown",
   "metadata": {},
   "source": [
    "Multivariate kurtosis test proposed by Mardia and based on the sample kurtosis statistic defined as follow : \n",
    "\n",
    "$$b_{2,d}=\\frac{1}{n} \\sum\\limits_{j=1}^n ((X_j - \\bar{X})^T \\hat{\\Sigma}^{-1}(X_j - \\bar{X}))^2$$\n"
   ]
  },
  {
   "cell_type": "code",
   "execution_count": 6,
   "metadata": {},
   "outputs": [],
   "source": [
    "def kurtosis(x,n):\n",
    "    s = 0\n",
    "    mean = x.mean(axis=0)\n",
    "    max_likelihood = (1/n) * np.dot((x - x.mean(axis=0)).T,(x - x.mean(axis=0)))\n",
    "    E_inv = np.linalg.inv(max_likelihood)   \n",
    "    for j in range(n):\n",
    "        s += np.dot(np.dot((x[j]-mean), E_inv), (x[j]-mean).T)**2\n",
    "    s = s / n\n",
    "    return s"
   ]
  },
  {
   "cell_type": "markdown",
   "metadata": {},
   "source": [
    "## 3. BHEP Statistics and Henze-Zirkler"
   ]
  },
  {
   "cell_type": "markdown",
   "metadata": {},
   "source": [
    "**BHEP statistics**\n",
    "\n",
    "The BHEP (Baringhaus-Henze-Epps-Pulley) statistics $T_{n,d}(\\beta)$ are defined  as weighted integral of the squared difference between the multivariate normal characteristic function and the empirical characteristic function $\\Psi_n(t) = \\frac{1}{n}\\sum_{k=1}^n e^{it^TY_k}$, with Y is the standardized sample.\n",
    "\n",
    "in practise, the BHEP test statistic, for a giben fixed parameter $\\beta > 0$ is defined by : \n",
    "\n",
    "$$T_{n,d}(\\beta) = \\frac{1}{n^2}\\sum\\limits_{j,k=1}^n e^{-(\\beta^2/2)||Y_j-Yk||^2} - 2(1+\\beta^2)^{-d/2} \\frac{1}{n}\\sum\\limits_{j=1}^n e^{-\\beta^2||Y_j||^2/(2(1+\\beta^2))} + (1+2\\beta^2)^{-d/2}$$\n",
    "\n",
    "In the following comparaison, we will use several BHEP statistic associated with values of $\\beta = .1, .5, 1, 3$\n",
    "\n",
    "**Henze-Zirkler statistic**\n",
    "\n",
    "Using the value $\\beta = \\frac{1}{\\sqrt{2}}\\left[\\frac{(2d+1)n}{4}\\right]^{1/(d+4)}$, it corresponds to choosing the optimal bandwith for a multivariate nonparametric kernel density estimator with Gaussian kernel associated with the BHEP statistic. This particular choice of $\\beta$ defines the Henze-Zirkler test, that we will denote HZ."
   ]
  },
  {
   "cell_type": "code",
   "execution_count": 7,
   "metadata": {},
   "outputs": [],
   "source": [
    "def get_standardized_samples(x):\n",
    "    n = x.shape[0]\n",
    "    max_likelihood = np.dot((x - x.mean(axis=0)).T,(x - x.mean(axis=0)))/n\n",
    "    A_inv = scipy.linalg.inv(max_likelihood) \n",
    "    A_inv = scipy.linalg.sqrtm(A_inv)\n",
    "    standardized_samples = np.dot(A_inv, (x - x.mean(axis=0)).T)\n",
    "    return standardized_samples.T"
   ]
  },
  {
   "cell_type": "code",
   "execution_count": 8,
   "metadata": {},
   "outputs": [],
   "source": [
    "standardized_samples = get_standardized_samples(samples)"
   ]
  },
  {
   "cell_type": "code",
   "execution_count": 9,
   "metadata": {},
   "outputs": [],
   "source": [
    "def BHEP_statistics(x, beta, n, d ):\n",
    "    Y = get_standardized_samples(x)\n",
    "    T1 = 0\n",
    "    for j in range(n):\n",
    "        for k in range(n):\n",
    "            T1+=np.exp(-(beta**2)/2*norm(Y[j] - Y[k])**2)\n",
    "    T2 = 0\n",
    "    for j in range(n):\n",
    "        T2 += np.exp(-(beta**2)*(norm(Y[j])**2)/(2*(1+beta**2)))\n",
    "    \n",
    "    T = T1/n**2 - 2*(1+beta**2)**(-d/2)*T2/n + (1+2*beta**2)**(-d/2)\n",
    "    return T\n",
    "\n",
    "def get_beta(n,d):\n",
    "    return (1/np.sqrt(2))*((2*d + 1)*n/4)**(1/(d+4))"
   ]
  },
  {
   "cell_type": "code",
   "execution_count": 10,
   "metadata": {},
   "outputs": [
    {
     "data": {
      "text/plain": [
       "0.010197387782902245"
      ]
     },
     "execution_count": 10,
     "metadata": {},
     "output_type": "execute_result"
    }
   ],
   "source": [
    "#Exemple\n",
    "d = 2\n",
    "n = 25\n",
    "samples =  np.random.multivariate_normal(mu_0, I_0, n)\n",
    "optimal_beta = get_beta(n,d)\n",
    "BHEP_statistics(samples, optimal_beta, n,d)"
   ]
  },
  {
   "cell_type": "markdown",
   "metadata": {},
   "source": [
    "### 4. Proposed Statistic "
   ]
  },
  {
   "cell_type": "code",
   "execution_count": 11,
   "metadata": {},
   "outputs": [
    {
     "data": {
      "text/plain": [
       "0.6351521276168892"
      ]
     },
     "execution_count": 11,
     "metadata": {},
     "output_type": "execute_result"
    }
   ],
   "source": [
    "def GOF_stat(x):\n",
    "    n, d = x.shape\n",
    "    Y = get_standardized_samples(x)   \n",
    "    stat_1 = 0\n",
    "    stat_2 = 0\n",
    "    \n",
    "    for j in range(n):\n",
    "        for k in range(n):\n",
    "            stat_2 += norm(Y[j] - Y[k])\n",
    "            \n",
    "    def E_aZ(a, pprint=False):\n",
    "        const = gamma((d+1)/2)\n",
    "        s = 0\n",
    "        for k in range(100):\n",
    "            s+= ((-1)**k/(factorial(k)* 2**k)) *\\\n",
    "                (norm(a)**(2*k +2) / ((2*k+1)*(2*k+2)))*\\\n",
    "                (const*gamma(k+3/2)/gamma(k + d/2 + 1))\n",
    "            \n",
    "        s = s* np.sqrt(2/pi)\n",
    "        s += np.sqrt(2)*const/gamma(d/2)\n",
    "        return s\n",
    "    \n",
    "    for j in range(n):\n",
    "        stat_1 += E_aZ(Y[j])\n",
    "\n",
    "    stat = n*((2/n)*stat_1 - (1/n**2) * stat_2 - 2*(gamma((d+1)/2)/gamma(d/2)))\n",
    "    return stat\n",
    "\n",
    "samples = np.random.multivariate_normal(mu_0, I_0, 25)\n",
    "\n",
    "GOF_stat(samples)"
   ]
  },
  {
   "cell_type": "markdown",
   "metadata": {},
   "source": [
    "# 3. Critical Values\n",
    "\n",
    "In order to get critical values of all multivariate, the authors proposed to estimate those by Monte Carlo simulation of 20, 000 standardized $N_d(0,I)$ samples (or 40, 000 for n=25). As a remark, we will do this for all benchmark statistics but we will rely on the table given in the article for the approximate percentiles for $\\mathcal{E}_{n,d}$."
   ]
  },
  {
   "cell_type": "code",
   "execution_count": 12,
   "metadata": {},
   "outputs": [
    {
     "data": {
      "application/vnd.jupyter.widget-view+json": {
       "model_id": "7a132c2ef5bf4ca690be53ab1da53415",
       "version_major": 2,
       "version_minor": 0
      },
      "text/plain": [
       "HBox(children=(IntProgress(value=0, max=4), HTML(value='')))"
      ]
     },
     "metadata": {},
     "output_type": "display_data"
    },
    {
     "name": "stdout",
     "output_type": "stream",
     "text": [
      "\n"
     ]
    }
   ],
   "source": [
    "critical_values = {}\n",
    "critical_values_n = {}\n",
    "\n",
    "for d in tqdm_notebook([2,3,5,10]):\n",
    "    critical_values_n = {}\n",
    "    mu_0 = [0]*d\n",
    "    I_0 = np.identity(d)\n",
    "    \n",
    "    for n in [25, 50, 100]:\n",
    "\n",
    "        monte_carlo_sw = []\n",
    "        monte_carlo_kt = []\n",
    "        monte_carlo_t01 = []\n",
    "        monte_carlo_t05 = []\n",
    "        monte_carlo_t1 = []\n",
    "        monte_carlo_t3 = []\n",
    "        monte_carlo_hz = []\n",
    "\n",
    "        optimal_beta = get_beta(n,d)\n",
    "\n",
    "        if n==25 :\n",
    "            MC = 4000\n",
    "        else : \n",
    "            MC = 2000\n",
    "\n",
    "        for i in range(MC):\n",
    "            \n",
    "\n",
    "\n",
    "            samples = np.random.multivariate_normal(mu_0, I_0, n)\n",
    "\n",
    "            monte_carlo_sw.append(skewness(samples,n))\n",
    "            monte_carlo_kt.append(kurtosis(samples,n))\n",
    "            monte_carlo_t01.append(BHEP_statistics(samples,0.1,n,d))\n",
    "            monte_carlo_t05.append(BHEP_statistics(samples,0.5,n,d))\n",
    "            monte_carlo_t1.append(BHEP_statistics(samples,1,n,d))\n",
    "            monte_carlo_t3.append(BHEP_statistics(samples,3,n,d))\n",
    "            monte_carlo_hz.append(BHEP_statistics(samples,optimal_beta,n,d))\n",
    "\n",
    "        critical_values_upper = [np.quantile(monte_carlo_sw, 0.975), np.quantile(monte_carlo_kt,0.975), \n",
    "                                  np.quantile(monte_carlo_t01,0.975),  np.quantile(monte_carlo_t05,0.975),\n",
    "                                  np.quantile(monte_carlo_t1,0.975),  np.quantile(monte_carlo_t3,0.975),\n",
    "                                  np.quantile(monte_carlo_hz,0.975)]\n",
    "\n",
    "        critical_values_lower =  [np.quantile(monte_carlo_sw, 0.025), np.quantile(monte_carlo_kt,0.025),\n",
    "                                  np.quantile(monte_carlo_t01,0.025), np.quantile(monte_carlo_t05,0.025),\n",
    "                                  np.quantile(monte_carlo_t1,0.025),  np.quantile(monte_carlo_t3,0.025),\n",
    "                                  np.quantile(monte_carlo_hz, 0.025)]\n",
    "\n",
    "        critical_values_n[n] = [critical_values_lower, critical_values_upper]\n",
    "    critical_values[d] = critical_values_n"
   ]
  },
  {
   "cell_type": "code",
   "execution_count": 13,
   "metadata": {},
   "outputs": [],
   "source": [
    "with open('critical_values.pickle', 'wb') as handle:\n",
    "    pickle.dump(critical_values, handle, protocol=pickle.HIGHEST_PROTOCOL)"
   ]
  },
  {
   "cell_type": "code",
   "execution_count": 14,
   "metadata": {},
   "outputs": [],
   "source": [
    "with open('critical_values.pickle', 'rb') as handle:\n",
    "    critical_values = pickle.load(handle)"
   ]
  },
  {
   "cell_type": "markdown",
   "metadata": {},
   "source": [
    "# 4. Simulations"
   ]
  },
  {
   "cell_type": "markdown",
   "metadata": {},
   "source": [
    "## 1. Simulation n°1"
   ]
  },
  {
   "cell_type": "markdown",
   "metadata": {},
   "source": [
    "First simulation, we're going to build the comparaison table of percentage of significant tests of bivariate (d=2) normality of 2000 Monte Carlo samples at $\\alpha = 0.05$ with differents sample sizes n = 25, 50, 100"
   ]
  },
  {
   "cell_type": "code",
   "execution_count": 15,
   "metadata": {},
   "outputs": [
    {
     "data": {
      "application/vnd.jupyter.widget-view+json": {
       "model_id": "0651aefb462c4ba29df412fa390e396b",
       "version_major": 2,
       "version_minor": 0
      },
      "text/plain": [
       "HBox(children=(IntProgress(value=0, max=2), HTML(value='')))"
      ]
     },
     "metadata": {},
     "output_type": "display_data"
    },
    {
     "name": "stdout",
     "output_type": "stream",
     "text": [
      "\n"
     ]
    }
   ],
   "source": [
    "ep_bound = {25:0.944, 50: 0.960}\n",
    "d = 2\n",
    "mu_0 = [0]*d\n",
    "I_0 = np.identity(d)\n",
    "\n",
    "def experiment(pprint=True):\n",
    "    \n",
    "    combinaison_p = [0.5, 0.79, 0.9, 0.5, 0.9]\n",
    "    combinaison_mu = [[mu_0, mu_1], [mu_0, mu_1], [mu_0, mu_1], [mu_0, mu_0], [mu_0, mu_0]]\n",
    "    combinaison_cov = [[I_0, I_0],[I_0, I_0],[I_0, I_0],[B, I_0],[B, I_0]]\n",
    "    \n",
    "    final_array = []\n",
    "    \n",
    "    for n in tqdm_notebook([25, 50]):\n",
    "        \n",
    "        cv_lower, cv_upper = critical_values[d][n][0],  critical_values[d][n][1]\n",
    "\n",
    "        for c in range(5):\n",
    "            \n",
    "            l_skewness = []\n",
    "            l_kurtosis = []\n",
    "            l_bhep_01 = []\n",
    "            l_bhep_05 = []\n",
    "            l_bhep_1 = []\n",
    "            l_bhep_3 = []\n",
    "            l_hz = []\n",
    "            l_ep = []\n",
    "\n",
    "            p, mu, cov = combinaison_p[c], combinaison_mu[c], combinaison_cov[c]\n",
    "            optimal_beta = get_beta(n,d)\n",
    "            \n",
    "            for it in range(2000):\n",
    "                samples = get_samples(p, mu,cov, n, d)   \n",
    "                \n",
    "                sk = skewness(samples,n)\n",
    "                l_skewness.append((sk>cv_upper[0] or sk<cv_lower[0] ))\n",
    "                \n",
    "                ku = kurtosis(samples,n)\n",
    "                l_kurtosis.append((ku>cv_upper[1] or ku<cv_lower[1] ))\n",
    "                \n",
    "                bhep_01 = BHEP_statistics(samples,0.1,n,d)\n",
    "                l_bhep_01.append((bhep_01>cv_upper[2] or bhep_01<cv_lower[2] ))  \n",
    "                \n",
    "                bhep_05 = BHEP_statistics(samples,0.5,n,d)\n",
    "                l_bhep_05.append((bhep_05>cv_upper[3] or bhep_05<cv_lower[3] ))  \n",
    "                \n",
    "                bhep_1 = BHEP_statistics(samples,1,n,d)\n",
    "                l_bhep_1.append((bhep_1>cv_upper[4] or bhep_1<cv_lower[4] ))  \n",
    "                \n",
    "                bhep_3 = BHEP_statistics(samples,3,n,d)\n",
    "                l_bhep_3.append((bhep_3>cv_upper[5] or bhep_3<cv_lower[5] ))  \n",
    "                \n",
    "                hz = BHEP_statistics(samples,optimal_beta,n,d)\n",
    "                l_hz.append((hz>cv_upper[6] or hz<cv_lower[6] ))  \n",
    "                \n",
    "                ep = GOF_stat(samples)\n",
    "                l_ep.append((ep>ep_bound[n]))  \n",
    "                \n",
    "            if pprint :\n",
    "                print('\\nN={}, p, mu, cov = {},{},{} :\\n'.format(n,p,mu,cov))\n",
    "                print('Skewness :',np.mean(l_skewness)*100)\n",
    "                print('Kurtosis :',np.mean(l_kurtosis)*100)    \n",
    "                print('T_0.1 :',np.mean(l_bhep_01)*100)        \n",
    "                print('T_0.5 :',np.mean(l_bhep_05)*100)             \n",
    "                print('T_1 :',np.mean(l_bhep_1)*100)             \n",
    "                print('T_3 :',np.mean(l_bhep_3)*100)             \n",
    "                print('HZ :',np.mean(l_hz)*100)      \n",
    "                print('EP :',np.mean(l_ep)*100)      \n",
    "\n",
    "            final_array.append([np.mean(l_ep)*100, np.mean(l_skewness)*100, np.mean(l_kurtosis)*100, np.mean(l_bhep_01)*100, np.mean(l_bhep_05)*100, \\\n",
    "                          np.mean(l_bhep_1)*100, np.mean(l_bhep_3)*100, np.mean(l_hz)*100])\n",
    "    return final_array\n",
    "            \n",
    "final_array = experiment(pprint = False)"
   ]
  },
  {
   "cell_type": "code",
   "execution_count": 16,
   "metadata": {},
   "outputs": [],
   "source": [
    "alternative = ['0.5$N_d$(0,I) + 0.5$N_d$(3,I)', '0.79$N_d$(0,I) + 0.21$N_d$(3,I)', '0.9$N_d$(0,I) + 0.1$N_d$(3,I)',\n",
    "              '0.5$N_d$(0,B) + 0.5$N_d$(3,I)', '0.9$N_d$(0,B) + 0.1$N_d$(3,I)']\n",
    "\n",
    "def build_array(arr,  info = [25, 50]):\n",
    "    print('| {} | {} | {} | {} | {} | {} | {} | {} | {} | {} | '.format(\\\n",
    "                    *['alternative','n','$\\mathcal{E}$','b_1', 'b_2', '$T_{0.1}$',  '$T_{0.5}$',  '$T_1$',  '$T_3$', 'HZ']))\n",
    "    print('| - | - | - | - | - | - | - | - | - | - | ')\n",
    "   \n",
    "    for i in range(len(arr)):\n",
    "        if i%5 == 0 :\n",
    "            print('|  | ')\n",
    "        print('| {} | {} | {} | {} | {} | {} | {} | {} | {} | {} | '.format(alternative[i%5], info[i//5],*arr[i,:]))"
   ]
  },
  {
   "cell_type": "code",
   "execution_count": null,
   "metadata": {},
   "outputs": [],
   "source": [
    "#build_array(np.array(final_array, 'int'), info = [25, 50])"
   ]
  },
  {
   "cell_type": "markdown",
   "metadata": {},
   "source": [
    "<h3><center> Percentage of significant tests of bivariate normality of 2000 Monte Carlo samples at  𝛼=0.05</center></h3>\n",
    "\n",
    "| alternative | n | $\\mathcal{E}$ | b_1 | b_2 | $T_{0.1}$ | $T_{0.5}$ | $T_1$ | $T_3$ | HZ | \n",
    "| - | - | - | - | - | - | - | - | - | - | \n",
    "|  | \n",
    "| 0.5$N_d$(0,I) + 0.5$N_d$(3,I) | 25 | 32 | 4 | 20 | 3 | 2 | 15 | 27 | 24 | \n",
    "| 0.79$N_d$(0,I) + 0.21$N_d$(3,I) | 25 | 57 | 17 | 9 | 18 | 28 | 46 | 27 | 47 | \n",
    "| 0.9$N_d$(0,I) + 0.1$N_d$(3,I) | 25 | 48 | 37 | 22 | 37 | 43 | 41 | 17 | 36 | \n",
    "| 0.5$N_d$(0,B) + 0.5$N_d$(3,I) | 25 | 18 | 13 | 13 | 11 | 12 | 13 | 9 | 12 | \n",
    "| 0.9$N_d$(0,B) + 0.1$N_d$(3,I) | 25 | 23 | 26 | 26 | 25 | 24 | 18 | 7 | 16 | \n",
    "|  | \n",
    "| 0.5$N_d$(0,I) + 0.5$N_d$(3,I) | 50 | 76 | 5 | 34 | 5 | 2 | 44 | 68 | 69 | \n",
    "| 0.79$N_d$(0,I) + 0.21$N_d$(3,I) | 50 | 92 | 35 | 7 | 42 | 67 | 87 | 66 | 85 | \n",
    "| 0.9$N_d$(0,I) + 0.1$N_d$(3,I) | 50 | 81 | 74 | 35 | 76 | 81 | 76 | 39 | 65 | \n",
    "| 0.5$N_d$(0,B) + 0.5$N_d$(3,I) | 50 | 32 | 16 | 23 | 15 | 17 | 22 | 15 | 20 | \n",
    "| 0.9$N_d$(0,B) + 0.1$N_d$(3,I) | 50 | 37 | 39 | 49 | 38 | 38 | 29 | 12 | 22 | "
   ]
  },
  {
   "cell_type": "markdown",
   "metadata": {},
   "source": [
    "## Time Comparaison : "
   ]
  },
  {
   "cell_type": "markdown",
   "metadata": {},
   "source": [
    "If the test perfom better, it can be intersting to see what we loose by performing the new test against another one. One thing we can notice is that the new test a more time-consuming than others."
   ]
  },
  {
   "cell_type": "code",
   "execution_count": 18,
   "metadata": {},
   "outputs": [
    {
     "data": {
      "application/vnd.jupyter.widget-view+json": {
       "model_id": "71aa2c40add140c5bfa92ea990b6d945",
       "version_major": 2,
       "version_minor": 0
      },
      "text/plain": [
       "HBox(children=(IntProgress(value=0, max=7), HTML(value='')))"
      ]
     },
     "metadata": {},
     "output_type": "display_data"
    },
    {
     "name": "stdout",
     "output_type": "stream",
     "text": [
      "\n"
     ]
    }
   ],
   "source": [
    "import time\n",
    "time_comp_total = []\n",
    "\n",
    "for n in tqdm_notebook(range(25,200,25)):\n",
    "    time_comp = [time.time()]\n",
    "    p, mu, cov = 0.5, [mu_0, mu_1], [I_0,I_0]\n",
    "    samples = get_samples(p, mu,cov, n, d)   \n",
    "    optimal_beta = get_beta(n,d)\n",
    "    sk = skewness(samples,n)\n",
    "    time_comp.append(time.time())\n",
    "    ku = kurtosis(samples,n)\n",
    "    time_comp.append(time.time())\n",
    "    bhep_01 = BHEP_statistics(samples,0.1,n,d)\n",
    "    time_comp.append(time.time())\n",
    "    bhep_05 = BHEP_statistics(samples,0.3,n,d)\n",
    "    time_comp.append(time.time())\n",
    "    bhep_1 = BHEP_statistics(samples,1,n,d)\n",
    "    time_comp.append(time.time())\n",
    "    bhep_3 = BHEP_statistics(samples,3,n,d)\n",
    "    time_comp.append(time.time())\n",
    "    hz = BHEP_statistics(samples,optimal_beta,n,d)\n",
    "    time_comp.append(time.time())\n",
    "    ep = GOF_stat(samples)\n",
    "    time_comp.append(time.time())\n",
    "    time_comp_total.append(time_comp)"
   ]
  },
  {
   "cell_type": "code",
   "execution_count": 19,
   "metadata": {},
   "outputs": [
    {
     "data": {
      "image/png": "[encoded data removed]",
      "text/plain": [
       "<Figure size 720x360 with 1 Axes>"
      ]
     },
     "metadata": {},
     "output_type": "display_data"
    }
   ],
   "source": [
    "import matplotlib.pyplot as plt\n",
    "plt.figure(figsize=(10,5))\n",
    "time_comp_diff = np.diff(time_comp_total, axis=1)\n",
    "for i,name in enumerate(['Skewness', 'Kurtosis', 'T_0.1',  'T_0.5',  'T_1',  'T_3', 'HZ', 'NEW TEST']):\n",
    "    plt.plot(time_comp_diff[:,i],label=name)\n",
    "    plt.legend(loc='upper left')\n",
    "plt.show()"
   ]
  },
  {
   "cell_type": "markdown",
   "metadata": {},
   "source": [
    "## 2. Simulation n°2"
   ]
  },
  {
   "cell_type": "markdown",
   "metadata": {},
   "source": [
    "Second simulation, we're going to build the comparaison table of percentage of significant tests of multivariate (d=3, 5, 10) normality of 2000 Monte Carlo samples at $\\alpha = 0.05$ with fixed sample size n = 50"
   ]
  },
  {
   "cell_type": "code",
   "execution_count": 20,
   "metadata": {},
   "outputs": [
    {
     "data": {
      "application/vnd.jupyter.widget-view+json": {
       "model_id": "bb7693efd9ad400095eb220f51210fc1",
       "version_major": 2,
       "version_minor": 0
      },
      "text/plain": [
       "HBox(children=(IntProgress(value=0, max=3), HTML(value='')))"
      ]
     },
     "metadata": {},
     "output_type": "display_data"
    },
    {
     "name": "stdout",
     "output_type": "stream",
     "text": [
      "\n"
     ]
    }
   ],
   "source": [
    "ep_bound = {3:1.066, 5:1.263, 10:1.690}\n",
    "\n",
    "n = 50\n",
    "I_0, I_1 = np.identity(d), np.identity(d)*3\n",
    "B = np.ones((d,d))*0.9 + np.identity(d)*0.1\n",
    "\n",
    "def experiment2(pprint=True):\n",
    "    \n",
    "#     combinaison_p = [0.5, 0.79, 0.9, 0.5, 0.9]\n",
    "#     combinaison_mu = [[mu_0, mu_1], [mu_0, mu_1], [mu_0, mu_1], [mu_0, mu_0], [mu_0, mu_0]]\n",
    "#     combinaison_cov = [[I_0, I_0],[I_0, I_0],[I_0, I_0],[B, I_0],[B, I_0]]\n",
    "    \n",
    "    final_array = []\n",
    "    \n",
    "    for d in tqdm_notebook([3,5, 10]):\n",
    "        \n",
    "        mu_0, mu_1 = [0]*d, [3]*d\n",
    "        I_0, I_1 = np.identity(d), np.identity(d)*3\n",
    "        B = np.ones((d,d))*0.9 + np.identity(d)*0.1\n",
    "        combinaison_p = [0.5, 0.79, 0.9, 0.5, 0.9]\n",
    "        combinaison_mu = [[mu_0, mu_1], [mu_0, mu_1], [mu_0, mu_1], [mu_0, mu_0], [mu_0, mu_0]]\n",
    "        combinaison_cov = [[I_0, I_0],[I_0, I_0],[I_0, I_0],[B, I_0],[B, I_0]]\n",
    "        \n",
    "        cv_lower, cv_upper = critical_values[d][n][0],  critical_values[d][n][1]\n",
    "\n",
    "        for c in range(5):\n",
    "            \n",
    "            l_skewness = []\n",
    "            l_kurtosis = []\n",
    "            l_bhep_01 = []\n",
    "            l_bhep_05 = []\n",
    "            l_bhep_1 = []\n",
    "            l_bhep_3 = []\n",
    "            l_hz = []\n",
    "            l_ep = []\n",
    "\n",
    "            p, mu, cov = combinaison_p[c], combinaison_mu[c], combinaison_cov[c]\n",
    "            optimal_beta = get_beta(n,d)\n",
    "            \n",
    "            for it in range(2000):\n",
    "                \n",
    "                samples = get_samples(p, mu,cov, n, d)   \n",
    "                \n",
    "                sk = skewness(samples,n)\n",
    "                l_skewness.append((sk>cv_upper[0] or sk<cv_lower[0] ))\n",
    "                \n",
    "                ku = kurtosis(samples,n)\n",
    "                l_kurtosis.append((ku>cv_upper[1] or ku<cv_lower[1] ))\n",
    "                \n",
    "                bhep_01 = BHEP_statistics(samples,0.1,n,d)\n",
    "                l_bhep_01.append((bhep_01>cv_upper[2] or bhep_01<cv_lower[2] ))  \n",
    "                \n",
    "                bhep_05 = BHEP_statistics(samples,0.5,n,d)\n",
    "                l_bhep_05.append((bhep_05>cv_upper[3] or bhep_05<cv_lower[3] ))  \n",
    "                \n",
    "                bhep_1 = BHEP_statistics(samples,1,n,d)\n",
    "                l_bhep_1.append((bhep_1>cv_upper[4] or bhep_1<cv_lower[4] ))  \n",
    "                \n",
    "                bhep_3 = BHEP_statistics(samples,3,n,d)\n",
    "                l_bhep_3.append((bhep_3>cv_upper[5] or bhep_3<cv_lower[5] ))  \n",
    "                \n",
    "                hz = BHEP_statistics(samples,optimal_beta,n,d)\n",
    "                l_hz.append((hz>cv_upper[6] or hz<cv_lower[6] ))  \n",
    "                \n",
    "                ep = GOF_stat(samples)\n",
    "                l_ep.append((ep>ep_bound[d]))  \n",
    "            \n",
    "            if pprint :\n",
    "                print('\\nN={}, p, mu, cov = {},{},{} :\\n'.format(n,p,mu,cov))\n",
    "                print('Skewness :',np.mean(l_skewness)*100)\n",
    "                print('Kurtosis :',np.mean(l_kurtosis)*100)    \n",
    "                print('T_0.1 :',np.mean(l_bhep_01)*100)        \n",
    "                print('T_0.5 :',np.mean(l_bhep_05)*100)             \n",
    "                print('T_1 :',np.mean(l_bhep_1)*100)             \n",
    "                print('T_3 :',np.mean(l_bhep_3)*100)             \n",
    "                print('HZ :',np.mean(l_hz)*100)      \n",
    "                print('EP :',np.mean(l_ep)*100)      \n",
    "\n",
    "            final_array.append([np.mean(l_ep)*100, np.mean(l_skewness)*100, np.mean(l_kurtosis)*100, np.mean(l_bhep_01)*100, np.mean(l_bhep_05)*100, \\\n",
    "                          np.mean(l_bhep_1)*100, np.mean(l_bhep_3)*100, np.mean(l_hz)*100])\n",
    "    return final_array\n",
    "            \n",
    "final_array = experiment2(pprint=False)"
   ]
  },
  {
   "cell_type": "code",
   "execution_count": null,
   "metadata": {},
   "outputs": [],
   "source": [
    "#build_array(np.array(final_array, 'int'), info=[3,5,10])"
   ]
  },
  {
   "cell_type": "markdown",
   "metadata": {},
   "source": [
    "<h3><center> Percentage of significant tests of multivariate normality of 2000 Monte Carlo samples at  𝛼=0.05</center></h3>\n",
    "\n",
    "\n",
    "| alternative | n | $\\mathcal{E}$ | b_1 | b_2 | $T_{0.1}$ | $T_{0.5}$ | $T_1$ | $T_3$ | HZ | \n",
    "| - | - | - | - | - | - | - | - | - | - | \n",
    "|  | \n",
    "| 0.5$N_d$(0,I) + 0.5$N_d$(3,I) | 3 | 64 | 8 | 19 | 5 | 3 | 37 | 55 | 62 | \n",
    "| 0.79$N_d$(0,I) + 0.21$N_d$(3,I) | 3 | 95 | 31 | 8 | 34 | 68 | 89 | 54 | 88 | \n",
    "| 0.9$N_d$(0,I) + 0.1$N_d$(3,I) | 3 | 91 | 82 | 37 | 82 | 91 | 82 | 30 | 71 | \n",
    "| 0.5$N_d$(0,B) + 0.5$N_d$(3,I) | 3 | 70 | 32 | 56 | 28 | 43 | 54 | 38 | 53 | \n",
    "| 0.9$N_d$(0,B) + 0.1$N_d$(3,I) | 3 | 63 | 69 | 77 | 65 | 68 | 48 | 19 | 39 | \n",
    "|  | \n",
    "| 0.5$N_d$(0,I) + 0.5$N_d$(3,I) | 5 | 27 | 7 | 10 | 6 | 4 | 28 | 13 | 38 | \n",
    "| 0.79$N_d$(0,I) + 0.21$N_d$(3,I) | 5 | 83 | 20 | 7 | 27 | 56 | 79 | 14 | 76 | \n",
    "| 0.9$N_d$(0,I) + 0.1$N_d$(3,I) | 5 | 93 | 75 | 33 | 79 | 91 | 79 | 13 | 67 | \n",
    "| 0.5$N_d$(0,B) + 0.5$N_d$(3,I) | 5 | 98 | 74 | 95 | 66 | 90 | 98 | 68 | 97 | \n",
    "| 0.9$N_d$(0,B) + 0.1$N_d$(3,I) | 5 | 88 | 92 | 93 | 90 | 89 | 72 | 20 | 62 | \n",
    "|  | \n",
    "| 0.5$N_d$(0,I) + 0.5$N_d$(3,I) | 10 | 10 | 5 | 6 | 7 | 3 | 6 | 4 | 6 | \n",
    "| 0.79$N_d$(0,I) + 0.21$N_d$(3,I) | 10 | 44 | 7 | 5 | 13 | 22 | 16 | 9 | 15 | \n",
    "| 0.9$N_d$(0,I) + 0.1$N_d$(3,I) | 10 | 79 | 41 | 22 | 50 | 58 | 17 | 15 | 16 | \n",
    "| 0.5$N_d$(0,B) + 0.5$N_d$(3,I) | 10 | 100 | 99 | 100 | 99 | 99 | 100 | 93 | 100 | \n",
    "| 0.9$N_d$(0,B) + 0.1$N_d$(3,I) | 10 | 97 | 98 | 98 | 98 | 95 | 62 | 71 | 58 | "
   ]
  },
  {
   "cell_type": "markdown",
   "metadata": {},
   "source": [
    "## 3. Simulation n°3"
   ]
  },
  {
   "cell_type": "markdown",
   "metadata": {},
   "source": [
    "Third and last simulation, we're going to plot the empirical power of tests of multivariate normality (d=5) against several normal mixture location mixture :\n",
    "1. $0.9N_5(0,I) + 0.1N_5(2,I)$\n",
    "2. $0.79N_5(0,I) + 0.21N_5(2,I)$\n",
    "3. $0.9N_5(0,C) + 0.1N_5(2,I)$\n",
    "\n",
    "Ie the percentage of significant tests of 2000 Monte Carlo samples at 𝛼=0.05  with differents sample sizes n = 25, 50, 100."
   ]
  },
  {
   "cell_type": "code",
   "execution_count": 22,
   "metadata": {},
   "outputs": [
    {
     "data": {
      "application/vnd.jupyter.widget-view+json": {
       "model_id": "0e9094b367ca4063a614cdf017fb190d",
       "version_major": 2,
       "version_minor": 0
      },
      "text/plain": [
       "HBox(children=(IntProgress(value=0, max=3), HTML(value='')))"
      ]
     },
     "metadata": {},
     "output_type": "display_data"
    },
    {
     "name": "stdout",
     "output_type": "stream",
     "text": [
      "\n"
     ]
    }
   ],
   "source": [
    "ep_bound = {25:1.241, 50:1.263, 100:1.277}\n",
    "d=5\n",
    "I_0, I_1 = np.identity(d), np.identity(d)*3\n",
    "B = np.ones((d,d))*0.9 + np.identity(d)*0.1\n",
    "\n",
    "def experiment3(pprint=True):\n",
    "    \n",
    "    mu_0, mu_1 = [0]*d, [2]*d\n",
    "    I_0, I_1 = np.identity(d), np.identity(d)*3\n",
    "    C = np.ones((d,d))*0.5 + np.identity(d)*0.5\n",
    "    \n",
    "    combinaison_p = [0.9, 0.79, 0.5]\n",
    "    combinaison_mu = [[mu_0, mu_1], [mu_0, mu_1], [mu_0, mu_1]]\n",
    "    combinaison_cov = [[I_0, I_0],[I_0, I_0],[C, I_0]]\n",
    "    \n",
    "    final_array = []\n",
    "    \n",
    "    for n in tqdm_notebook([25,50, 100]):\n",
    "        \n",
    "        cv_lower, cv_upper = critical_values[d][n][0],  critical_values[d][n][1]\n",
    "        \n",
    "        for c in range(3):\n",
    "            \n",
    "            l_skewness = []\n",
    "            l_kurtosis = []\n",
    "            l_hz = []\n",
    "            l_ep = []\n",
    "\n",
    "            p, mu, cov = combinaison_p[c], combinaison_mu[c], combinaison_cov[c]\n",
    "            optimal_beta = get_beta(n,d)\n",
    "            \n",
    "            for it in range(2000):\n",
    "\n",
    "                samples = get_samples(p, mu,cov, n, d)   \n",
    "                \n",
    "                sk = skewness(samples,n)\n",
    "                l_skewness.append((sk>cv_upper[0] or sk<cv_lower[0] ))\n",
    "                \n",
    "                ku = kurtosis(samples,n)\n",
    "                l_kurtosis.append((ku>cv_upper[1] or ku<cv_lower[1] ))\n",
    "                \n",
    "                hz = BHEP_statistics(samples,optimal_beta,n,d)\n",
    "                l_hz.append((hz>cv_upper[6] or hz<cv_lower[6] ))  \n",
    "                \n",
    "                ep = GOF_stat(samples)\n",
    "                l_ep.append((ep>ep_bound[n]))  \n",
    "                \n",
    "            if pprint  :\n",
    "                print('\\nN={}, p, mu, cov = {},{},{} :\\n'.format(n,p,mu,cov))\n",
    "                print('Skewness :',np.mean(l_skewness)*100)\n",
    "                print('Kurtosis :',np.mean(l_kurtosis)*100)           \n",
    "                print('HZ :',np.mean(l_hz)*100)      \n",
    "                print('EP :',np.mean(l_ep)*100)      \n",
    "\n",
    "            final_array.append([np.mean(l_ep)*100, np.mean(l_skewness)*100, np.mean(l_kurtosis)*100, np.mean(l_hz)*100])\n",
    "    return final_array\n",
    "            \n",
    "final_array = experiment3(pprint=False)\n",
    "final_array = np.array(final_array)"
   ]
  },
  {
   "cell_type": "code",
   "execution_count": 23,
   "metadata": {},
   "outputs": [
    {
     "name": "stdout",
     "output_type": "stream",
     "text": [
      "Simulation n°3 : \n",
      "\n"
     ]
    },
    {
     "data": {
      "image/png": "[encoded data removed]",
      "text/plain": [
       "<Figure size 360x1080 with 3 Axes>"
      ]
     },
     "metadata": {},
     "output_type": "display_data"
    }
   ],
   "source": [
    "title = 'Percent of Significant Test at 0.05, 2000 MC samples, '\n",
    "title_ex = ['0.9N_5(0,I) + 0.1N_5(2,I)', '0.79N_5(0,I) + 0.21N_5(2,I)', '0.9N_5(0,C) + 0.1N_5(2,I)']\n",
    "plt.figure(figsize=(5,15))\n",
    "print('Simulation n°3 : \\n')\n",
    "for i in range(3):\n",
    "    plt.subplot(3,1,i+1)\n",
    "    plt.ylabel('Empirical Power')\n",
    "    plt.xlabel('Sample Size')\n",
    "    plt.title(title+title_ex[i])\n",
    "    for j,name in enumerate(['E', 'Skewness', 'Kurtosis','HZ']):\n",
    "        plt.plot([25,50,100],final_array[[i+3*k for k in range(3)],j], label = name)\n",
    "        plt.legend(loc='upper left')\n",
    "plt.subplots_adjust(hspace =0.4)\n",
    "plt.show()"
   ]
  }
 ],
 "metadata": {
  "kernelspec": {
   "display_name": "Python 3",
   "language": "python",
   "name": "python3"
  },
  "language_info": {
   "codemirror_mode": {
    "name": "ipython",
    "version": 3
   },
   "file_extension": ".py",
   "mimetype": "text/x-python",
   "name": "python",
   "nbconvert_exporter": "python",
   "pygments_lexer": "ipython3",
   "version": "3.6.0"
  }
 },
 "nbformat": 4,
 "nbformat_minor": 2
}
